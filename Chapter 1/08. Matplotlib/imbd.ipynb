{
 "cells": [
  {
   "cell_type": "code",
   "execution_count": 1,
   "metadata": {},
   "outputs": [],
   "source": [
    "import requests\n",
    "import selenium\n",
    "from selenium import webdriver\n",
    "from selenium.webdriver.common.keys import Keys\n",
    "from time import sleep\n",
    "import pandas as pd"
   ]
  },
  {
   "cell_type": "code",
   "execution_count": 2,
   "metadata": {},
   "outputs": [],
   "source": [
    "url = 'https://www.imdb.com/list/ls009668711/'\n",
    "driver = webdriver.Chrome(executable_path='C:\\programexe\\chromedriver.exe')\n",
    "driver.get(url)"
   ]
  },
  {
   "cell_type": "code",
   "execution_count": 3,
   "metadata": {},
   "outputs": [],
   "source": [
    "\n",
    "#Stars_Actors = []"
   ]
  },
  {
   "cell_type": "code",
   "execution_count": null,
   "metadata": {},
   "outputs": [],
   "source": [
    "movie_names = []"
   ]
  },
  {
   "cell_type": "code",
   "execution_count": 7,
   "metadata": {},
   "outputs": [],
   "source": [
    "for i in range(1, 101):\n",
    "    names = driver.find_element_by_xpath('/html/body/div[4]/div/div[2]/div[3]/div[1]/div/div[3]/div[3]/div['+str(i)+']/div[2]/h3/a')\n",
    "    movie_names.append(names.text)"
   ]
  },
  {
   "cell_type": "code",
   "execution_count": 98,
   "metadata": {},
   "outputs": [],
   "source": [
    "movie_dates = []\n",
    "movie_dates.clear()"
   ]
  },
  {
   "cell_type": "code",
   "execution_count": 99,
   "metadata": {},
   "outputs": [],
   "source": [
    "for i in range(1, 101):\n",
    "    dates = driver.find_element_by_xpath('/html/body/div[4]/div/div[2]/div[3]/div[1]/div/div[3]/div[3]/div['+str(i)+']/div[2]/h3/span[2]')\n",
    "    movie_dates.append(int(dates.text.strip('(, ), (, I)')))"
   ]
  },
  {
   "cell_type": "code",
   "execution_count": 94,
   "metadata": {},
   "outputs": [],
   "source": [
    "ratings = []\n",
    "ratings.clear()"
   ]
  },
  {
   "cell_type": "code",
   "execution_count": 95,
   "metadata": {},
   "outputs": [],
   "source": [
    "for i in range(1, 101):\n",
    "    rating = driver.find_element_by_xpath('/html/body/div[4]/div/div[2]/div[3]/div[1]/div/div[3]/div[3]/div['+str(i)+']/div[2]/div[1]/div[1]/span[2]')\n",
    "    ratings.append(float(rating.text))"
   ]
  },
  {
   "cell_type": "code",
   "execution_count": 89,
   "metadata": {},
   "outputs": [],
   "source": [
    "durations = []\n",
    "durations.clear()"
   ]
  },
  {
   "cell_type": "code",
   "execution_count": 90,
   "metadata": {},
   "outputs": [],
   "source": [
    "for i in range(1, 101):\n",
    "    duration = driver.find_element_by_xpath('/html/body/div[4]/div/div[2]/div[3]/div[1]/div/div[3]/div[3]/div['+str(i)+']/div[2]/p[1]/span[3]')\n",
    "    durations.append(int(duration.text.strip(' min')))\n"
   ]
  },
  {
   "cell_type": "code",
   "execution_count": 85,
   "metadata": {},
   "outputs": [],
   "source": [
    "descriptions = []"
   ]
  },
  {
   "cell_type": "code",
   "execution_count": 43,
   "metadata": {},
   "outputs": [],
   "source": [
    "for i in range(1, 101):\n",
    "    desc = driver.find_element_by_xpath('/html/body/div[4]/div/div[2]/div[3]/div[1]/div/div[3]/div[3]/div['+str(i)+']/div[2]/p[2]')\n",
    "    descriptions.append(desc.text)\n"
   ]
  },
  {
   "cell_type": "code",
   "execution_count": 81,
   "metadata": {},
   "outputs": [],
   "source": [
    "votes = []\n",
    "votes.clear()"
   ]
  },
  {
   "cell_type": "code",
   "execution_count": 82,
   "metadata": {},
   "outputs": [],
   "source": [
    "for i in range(1, 101):\n",
    "    vote = driver.find_element_by_xpath('/html/body/div[4]/div/div[2]/div[3]/div[1]/div/div[3]/div[3]/div['+str(i)+']/div[2]/p[4]/span[2]')\n",
    "    votes.append(int(vote.text.replace(',', \"\")))"
   ]
  },
  {
   "cell_type": "code",
   "execution_count": 181,
   "metadata": {},
   "outputs": [],
   "source": [
    "grosss = []\n",
    "grosss.clear()"
   ]
  },
  {
   "cell_type": "code",
   "execution_count": 134,
   "metadata": {},
   "outputs": [],
   "source": [
    "from selenium.common.exceptions import NoSuchElementException"
   ]
  },
  {
   "cell_type": "code",
   "execution_count": 182,
   "metadata": {},
   "outputs": [],
   "source": [
    "\n",
    "for i in range(1, 101):\n",
    "    gros = driver.find_elements_by_xpath('/html/body/div[4]/div/div[2]/div[3]/div[1]/div/div[3]/div[3]/div['+str(i)+']/div[2]/p[4]/span[5]')\n",
    "    \n",
    "    if len(gros)>0:\n",
    "        grosss.append(float(gros[0].text.strip('M, $')))\n",
    "    else:\n",
    "        grosss.append(None)\n",
    "\n"
   ]
  },
  {
   "cell_type": "code",
   "execution_count": 183,
   "metadata": {},
   "outputs": [
    {
     "data": {
      "text/plain": [
       "[23.38, None, 136.8, 7.22]"
      ]
     },
     "execution_count": 183,
     "metadata": {},
     "output_type": "execute_result"
    }
   ],
   "source": [
    "grosss[21:25]"
   ]
  },
  {
   "cell_type": "code",
   "execution_count": 140,
   "metadata": {},
   "outputs": [
    {
     "data": {
      "text/plain": [
       "110"
      ]
     },
     "execution_count": 140,
     "metadata": {},
     "output_type": "execute_result"
    }
   ],
   "source": [
    "len(grosss)"
   ]
  },
  {
   "cell_type": "code",
   "execution_count": 55,
   "metadata": {},
   "outputs": [],
   "source": [
    "Directors = []"
   ]
  },
  {
   "cell_type": "code",
   "execution_count": 56,
   "metadata": {},
   "outputs": [],
   "source": [
    "for i in range(1, 101):\n",
    "    director = driver.find_element_by_xpath('/html/body/div[4]/div/div[2]/div[3]/div[1]/div/div[3]/div[3]/div['+str(i)+']/div[2]/p[3]/a[1]')\n",
    "    Directors.append(director.text)"
   ]
  },
  {
   "cell_type": "code",
   "execution_count": 59,
   "metadata": {},
   "outputs": [],
   "source": [
    "genres = []"
   ]
  },
  {
   "cell_type": "code",
   "execution_count": 60,
   "metadata": {},
   "outputs": [],
   "source": [
    "for i in range(1, 101):\n",
    "    genre = driver.find_element_by_xpath('/html/body/div[4]/div/div[2]/div[3]/div[1]/div/div[3]/div[3]/div['+str(i)+']/div[2]/p[1]/span[5]')\n",
    "    genres.append(genre.text)"
   ]
  },
  {
   "cell_type": "code",
   "execution_count": 117,
   "metadata": {},
   "outputs": [],
   "source": [
    "actors = []\n",
    "actors1 = []\n",
    "actors2 = []\n",
    "actors3 = []\n",
    "actors_main = []\n",
    "actors_main.clear()\n",
    "actors = [].clear()\n",
    "actors1 = [].clear()\n",
    "actors2 = [].clear()\n",
    "actors3 = [].clear()"
   ]
  },
  {
   "cell_type": "code",
   "execution_count": 119,
   "metadata": {},
   "outputs": [],
   "source": [
    "for i in range(1, 101):\n",
    "    actor = driver.find_element_by_xpath('/html/body/div[4]/div/div[2]/div[3]/div[1]/div/div[3]/div[3]/div['+str(i)+']/div[2]/p[3]/a[2]')\n",
    "    actor1 = driver.find_element_by_xpath('/html/body/div[4]/div/div[2]/div[3]/div[1]/div/div[3]/div[3]/div['+str(i)+']/div[2]/p[3]/a[3]')\n",
    "    actor2 = driver.find_element_by_xpath('/html/body/div[4]/div/div[2]/div[3]/div[1]/div/div[3]/div[3]/div['+str(i)+']/div[2]/p[3]/a[4]')\n",
    "    actor3 = driver.find_element_by_xpath('/html/body/div[4]/div/div[2]/div[3]/div[1]/div/div[3]/div[3]/div['+str(i)+']/div[2]/p[3]/a[5]')\n",
    "    main_actor = actor.text+ \", \"+actor1.text+\", \"+actor2.text+\", \"+actor3.text\n",
    "    actors_main.append(main_actor)"
   ]
  },
  {
   "cell_type": "code",
   "execution_count": 111,
   "metadata": {},
   "outputs": [],
   "source": [
    "for i in range(1, 101):\n",
    "    actor1 = driver.find_element_by_xpath('/html/body/div[4]/div/div[2]/div[3]/div[1]/div/div[3]/div[3]/div['+str(i)+']/div[2]/p[3]/a[3]')\n",
    "    actors1.append(actor1.text)"
   ]
  },
  {
   "cell_type": "code",
   "execution_count": 112,
   "metadata": {},
   "outputs": [],
   "source": [
    "for i in range(1, 101):\n",
    "    actor2 = driver.find_element_by_xpath('/html/body/div[4]/div/div[2]/div[3]/div[1]/div/div[3]/div[3]/div['+str(i)+']/div[2]/p[3]/a[4]')\n",
    "    actors2.append(actor2.text)"
   ]
  },
  {
   "cell_type": "code",
   "execution_count": 113,
   "metadata": {},
   "outputs": [],
   "source": [
    "for i in range(1, 101):\n",
    "    actor3 = driver.find_element_by_xpath('/html/body/div[4]/div/div[2]/div[3]/div[1]/div/div[3]/div[3]/div['+str(i)+']/div[2]/p[3]/a[5]')\n",
    "    actors3.append(actor3.text)"
   ]
  },
  {
   "cell_type": "code",
   "execution_count": 126,
   "metadata": {},
   "outputs": [],
   "source": [
    "metascores = []\n",
    "metascores.clear()"
   ]
  },
  {
   "cell_type": "code",
   "execution_count": 127,
   "metadata": {},
   "outputs": [],
   "source": [
    "for i in range(1, 101):\n",
    "    meta = driver.find_element_by_xpath('/html/body/div[4]/div/div[2]/div[3]/div[1]/div/div[3]/div[3]/div['+str(i)+']/div[2]/div[2]/span')\n",
    "    metascores.append(int(meta.text))"
   ]
  },
  {
   "cell_type": "code",
   "execution_count": 189,
   "metadata": {},
   "outputs": [],
   "source": [
    "datas = pd.DataFrame({\n",
    "    \"Names\":movie_names,\n",
    "    \"Director names\":Directors,\n",
    "    \"Actors\":actors_main,\n",
    "    \"Dates\":movie_dates,\n",
    "    \"genres\": genres,\n",
    "    \"Votes\":votes,\n",
    "    \"Durations\":durations,\n",
    "    \"Ratings\":ratings,\n",
    "    \"Metascores\":metascores,\n",
    "    \"Gross\":grosss\n",
    "}, index=[i for i in range(1,101)])\n",
    "datas.to_csv(\"100_movies.csv\", index=[i for i in range(1,101)])"
   ]
  },
  {
   "cell_type": "code",
   "execution_count": 188,
   "metadata": {},
   "outputs": [
    {
     "data": {
      "text/html": [
       "<div>\n",
       "<style scoped>\n",
       "    .dataframe tbody tr th:only-of-type {\n",
       "        vertical-align: middle;\n",
       "    }\n",
       "\n",
       "    .dataframe tbody tr th {\n",
       "        vertical-align: top;\n",
       "    }\n",
       "\n",
       "    .dataframe thead th {\n",
       "        text-align: right;\n",
       "    }\n",
       "</style>\n",
       "<table border=\"1\" class=\"dataframe\">\n",
       "  <thead>\n",
       "    <tr style=\"text-align: right;\">\n",
       "      <th></th>\n",
       "      <th>Names</th>\n",
       "      <th>Director names</th>\n",
       "      <th>Actors</th>\n",
       "      <th>Dates</th>\n",
       "      <th>genres</th>\n",
       "      <th>Votes</th>\n",
       "      <th>Durations</th>\n",
       "      <th>Ratings</th>\n",
       "      <th>Metascores</th>\n",
       "      <th>Gross</th>\n",
       "    </tr>\n",
       "  </thead>\n",
       "  <tbody>\n",
       "    <tr>\n",
       "      <th>1</th>\n",
       "      <td>The Godfather</td>\n",
       "      <td>Francis Ford Coppola</td>\n",
       "      <td>Marlon Brando, Al Pacino, James Caan, Diane Ke...</td>\n",
       "      <td>1972</td>\n",
       "      <td>Crime, Drama</td>\n",
       "      <td>1724779</td>\n",
       "      <td>175</td>\n",
       "      <td>9.2</td>\n",
       "      <td>100</td>\n",
       "      <td>134.97</td>\n",
       "    </tr>\n",
       "    <tr>\n",
       "      <th>2</th>\n",
       "      <td>The Godfather: Part II</td>\n",
       "      <td>Francis Ford Coppola</td>\n",
       "      <td>Al Pacino, Robert De Niro, Robert Duvall, Dian...</td>\n",
       "      <td>1974</td>\n",
       "      <td>Crime, Drama</td>\n",
       "      <td>1196880</td>\n",
       "      <td>202</td>\n",
       "      <td>9.0</td>\n",
       "      <td>90</td>\n",
       "      <td>57.30</td>\n",
       "    </tr>\n",
       "    <tr>\n",
       "      <th>3</th>\n",
       "      <td>The Dark Knight</td>\n",
       "      <td>Christopher Nolan</td>\n",
       "      <td>Christian Bale, Heath Ledger, Aaron Eckhart, M...</td>\n",
       "      <td>2008</td>\n",
       "      <td>Action, Crime, Drama</td>\n",
       "      <td>2451641</td>\n",
       "      <td>152</td>\n",
       "      <td>9.0</td>\n",
       "      <td>84</td>\n",
       "      <td>534.86</td>\n",
       "    </tr>\n",
       "    <tr>\n",
       "      <th>4</th>\n",
       "      <td>Pulp Fiction</td>\n",
       "      <td>Quentin Tarantino</td>\n",
       "      <td>John Travolta, Uma Thurman, Samuel L. Jackson,...</td>\n",
       "      <td>1994</td>\n",
       "      <td>Crime, Drama</td>\n",
       "      <td>1930787</td>\n",
       "      <td>154</td>\n",
       "      <td>8.9</td>\n",
       "      <td>94</td>\n",
       "      <td>107.93</td>\n",
       "    </tr>\n",
       "    <tr>\n",
       "      <th>5</th>\n",
       "      <td>Heat</td>\n",
       "      <td>Michael Mann</td>\n",
       "      <td>Al Pacino, Robert De Niro, Val Kilmer, Jon Voight</td>\n",
       "      <td>1995</td>\n",
       "      <td>Action, Crime, Drama</td>\n",
       "      <td>616041</td>\n",
       "      <td>170</td>\n",
       "      <td>8.2</td>\n",
       "      <td>76</td>\n",
       "      <td>67.44</td>\n",
       "    </tr>\n",
       "    <tr>\n",
       "      <th>...</th>\n",
       "      <td>...</td>\n",
       "      <td>...</td>\n",
       "      <td>...</td>\n",
       "      <td>...</td>\n",
       "      <td>...</td>\n",
       "      <td>...</td>\n",
       "      <td>...</td>\n",
       "      <td>...</td>\n",
       "      <td>...</td>\n",
       "      <td>...</td>\n",
       "    </tr>\n",
       "    <tr>\n",
       "      <th>96</th>\n",
       "      <td>La La Land</td>\n",
       "      <td>Damien Chazelle</td>\n",
       "      <td>Ryan Gosling, Emma Stone, Rosemarie DeWitt, J....</td>\n",
       "      <td>2016</td>\n",
       "      <td>Comedy, Drama, Music</td>\n",
       "      <td>545545</td>\n",
       "      <td>128</td>\n",
       "      <td>8.0</td>\n",
       "      <td>94</td>\n",
       "      <td>151.10</td>\n",
       "    </tr>\n",
       "    <tr>\n",
       "      <th>97</th>\n",
       "      <td>A Clockwork Orange</td>\n",
       "      <td>Stanley Kubrick</td>\n",
       "      <td>Malcolm McDowell, Patrick Magee, Michael Bates...</td>\n",
       "      <td>1971</td>\n",
       "      <td>Crime, Sci-Fi</td>\n",
       "      <td>793072</td>\n",
       "      <td>136</td>\n",
       "      <td>8.3</td>\n",
       "      <td>77</td>\n",
       "      <td>6.21</td>\n",
       "    </tr>\n",
       "    <tr>\n",
       "      <th>98</th>\n",
       "      <td>The Shape of Water</td>\n",
       "      <td>Guillermo del Toro</td>\n",
       "      <td>Sally Hawkins, Octavia Spencer, Michael Shanno...</td>\n",
       "      <td>2017</td>\n",
       "      <td>Drama, Fantasy, Romance</td>\n",
       "      <td>397694</td>\n",
       "      <td>123</td>\n",
       "      <td>7.3</td>\n",
       "      <td>87</td>\n",
       "      <td>63.86</td>\n",
       "    </tr>\n",
       "    <tr>\n",
       "      <th>99</th>\n",
       "      <td>JFK</td>\n",
       "      <td>Oliver Stone</td>\n",
       "      <td>Kevin Costner, Gary Oldman, Jack Lemmon, Walte...</td>\n",
       "      <td>1991</td>\n",
       "      <td>Drama, History, Thriller</td>\n",
       "      <td>149892</td>\n",
       "      <td>189</td>\n",
       "      <td>8.0</td>\n",
       "      <td>72</td>\n",
       "      <td>70.41</td>\n",
       "    </tr>\n",
       "    <tr>\n",
       "      <th>100</th>\n",
       "      <td>Prisoners</td>\n",
       "      <td>Denis Villeneuve</td>\n",
       "      <td>Hugh Jackman, Jake Gyllenhaal, Viola Davis, Me...</td>\n",
       "      <td>2013</td>\n",
       "      <td>Crime, Drama, Mystery</td>\n",
       "      <td>650557</td>\n",
       "      <td>153</td>\n",
       "      <td>8.1</td>\n",
       "      <td>70</td>\n",
       "      <td>61.00</td>\n",
       "    </tr>\n",
       "  </tbody>\n",
       "</table>\n",
       "<p>100 rows × 10 columns</p>\n",
       "</div>"
      ],
      "text/plain": [
       "                      Names        Director names  \\\n",
       "1             The Godfather  Francis Ford Coppola   \n",
       "2    The Godfather: Part II  Francis Ford Coppola   \n",
       "3           The Dark Knight     Christopher Nolan   \n",
       "4              Pulp Fiction     Quentin Tarantino   \n",
       "5                      Heat          Michael Mann   \n",
       "..                      ...                   ...   \n",
       "96               La La Land       Damien Chazelle   \n",
       "97       A Clockwork Orange       Stanley Kubrick   \n",
       "98       The Shape of Water    Guillermo del Toro   \n",
       "99                      JFK          Oliver Stone   \n",
       "100               Prisoners      Denis Villeneuve   \n",
       "\n",
       "                                                Actors  Dates  \\\n",
       "1    Marlon Brando, Al Pacino, James Caan, Diane Ke...   1972   \n",
       "2    Al Pacino, Robert De Niro, Robert Duvall, Dian...   1974   \n",
       "3    Christian Bale, Heath Ledger, Aaron Eckhart, M...   2008   \n",
       "4    John Travolta, Uma Thurman, Samuel L. Jackson,...   1994   \n",
       "5    Al Pacino, Robert De Niro, Val Kilmer, Jon Voight   1995   \n",
       "..                                                 ...    ...   \n",
       "96   Ryan Gosling, Emma Stone, Rosemarie DeWitt, J....   2016   \n",
       "97   Malcolm McDowell, Patrick Magee, Michael Bates...   1971   \n",
       "98   Sally Hawkins, Octavia Spencer, Michael Shanno...   2017   \n",
       "99   Kevin Costner, Gary Oldman, Jack Lemmon, Walte...   1991   \n",
       "100  Hugh Jackman, Jake Gyllenhaal, Viola Davis, Me...   2013   \n",
       "\n",
       "                       genres    Votes  Durations  Ratings  Metascores   Gross  \n",
       "1                Crime, Drama  1724779        175      9.2         100  134.97  \n",
       "2                Crime, Drama  1196880        202      9.0          90   57.30  \n",
       "3        Action, Crime, Drama  2451641        152      9.0          84  534.86  \n",
       "4                Crime, Drama  1930787        154      8.9          94  107.93  \n",
       "5        Action, Crime, Drama   616041        170      8.2          76   67.44  \n",
       "..                        ...      ...        ...      ...         ...     ...  \n",
       "96       Comedy, Drama, Music   545545        128      8.0          94  151.10  \n",
       "97              Crime, Sci-Fi   793072        136      8.3          77    6.21  \n",
       "98    Drama, Fantasy, Romance   397694        123      7.3          87   63.86  \n",
       "99   Drama, History, Thriller   149892        189      8.0          72   70.41  \n",
       "100     Crime, Drama, Mystery   650557        153      8.1          70   61.00  \n",
       "\n",
       "[100 rows x 10 columns]"
      ]
     },
     "execution_count": 188,
     "metadata": {},
     "output_type": "execute_result"
    }
   ],
   "source": [
    "datas "
   ]
  }
 ],
 "metadata": {
  "interpreter": {
   "hash": "b3ba2566441a7c06988d0923437866b63cedc61552a5af99d1f4fb67d367b25f"
  },
  "kernelspec": {
   "display_name": "Python 3.8.8 64-bit ('base': conda)",
   "language": "python",
   "name": "python3"
  },
  "language_info": {
   "codemirror_mode": {
    "name": "ipython",
    "version": 3
   },
   "file_extension": ".py",
   "mimetype": "text/x-python",
   "name": "python",
   "nbconvert_exporter": "python",
   "pygments_lexer": "ipython3",
   "version": "3.8.8"
  },
  "orig_nbformat": 4
 },
 "nbformat": 4,
 "nbformat_minor": 2
}
