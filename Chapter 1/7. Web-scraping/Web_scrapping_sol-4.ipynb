{
 "cells": [
  {
   "cell_type": "code",
   "execution_count": 156,
   "metadata": {},
   "outputs": [
    {
     "name": "stdout",
     "output_type": "stream",
     "text": [
      "           Period           Short description  Temperature\n",
      "0           Today           Slight ChanceRain  High: 63 °F\n",
      "1         Tonight                  Patchy Fog   Low: 52 °F\n",
      "2       Wednesday  Patchy Fogthen MostlySunny  High: 62 °F\n",
      "3  WednesdayNight                 Chance Rain   Low: 52 °F\n",
      "4        Thursday                 Rain Likely  High: 59 °F\n",
      "5   ThursdayNight           Slight ChanceRain   Low: 43 °F\n",
      "6          Friday                Mostly Sunny  High: 60 °F\n",
      "7     FridayNight                Mostly Clear   Low: 42 °F\n",
      "8        Saturday                       Sunny  High: 63 °F\n"
     ]
    }
   ],
   "source": [
    "import requests\n",
    "from bs4 import BeautifulSoup\n",
    "import pandas as pd\n",
    "\n",
    "\n",
    "page =requests.get(\"https://forecast.weather.gov/MapClick.php?x=276&y=148&site=lox&zmx=&zmy=&map_x=276&map_y=148\")\n",
    "\n",
    "\n",
    "soup = BeautifulSoup(page.content, \"html.parser\")\n",
    "\n",
    "week = soup.find(id=\"seven-day-forecast-body\")\n",
    "#print(week)\n",
    "\n",
    "\n",
    "items = week.find_all(class_=\"tombstone-container\")\n",
    "#print(items)\n",
    "\n",
    "\n",
    "#items[0].find(class_='period-name').get_text\n",
    "#items[0].find(class_='short-desc').get_text\n",
    "#items[0].find(class_='temp').get_text\n",
    "\n",
    "Period_names = [item.find(class_='period-name').get_text() for item in items]\n",
    "Short_descriptions =  [item.find(class_='short-desc').get_text() for item in items]\n",
    "Temperature = [item.find(class_='temp').get_text() for item in items]\n",
    "\n",
    "\n",
    "weather = pd.DataFrame(\n",
    "    {   'Period':Period_names,\n",
    "       'Short description':Short_descriptions,\n",
    "       'Temperature':Temperature,\n",
    "    })\n",
    "print(weather)\n",
    "weather.to_csv('weather.csv')"
   ]
  },
  {
   "cell_type": "markdown",
   "metadata": {},
   "source": []
  },
  {
   "cell_type": "code",
   "execution_count": null,
   "metadata": {},
   "outputs": [],
   "source": []
  },
  {
   "cell_type": "code",
   "execution_count": null,
   "metadata": {},
   "outputs": [],
   "source": []
  }
 ],
 "metadata": {
  "interpreter": {
   "hash": "4f9d56a0620bb2804cdb72f2dcbc5cd5bdcbe1d13758e9cf00537a26e77963bc"
  },
  "kernelspec": {
   "display_name": "Python 3.9.7 64-bit ('Strive_AI': conda)",
   "language": "python",
   "name": "python3"
  },
  "language_info": {
   "codemirror_mode": {
    "name": "ipython",
    "version": 3
   },
   "file_extension": ".py",
   "mimetype": "text/x-python",
   "name": "python",
   "nbconvert_exporter": "python",
   "pygments_lexer": "ipython3",
   "version": "3.9.7"
  },
  "orig_nbformat": 4
 },
 "nbformat": 4,
 "nbformat_minor": 2
}
