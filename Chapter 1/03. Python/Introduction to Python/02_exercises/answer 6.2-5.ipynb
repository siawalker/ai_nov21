{
 "cells": [
  {
   "cell_type": "code",
   "execution_count": 7,
   "metadata": {},
   "outputs": [
    {
     "name": "stdout",
     "output_type": "stream",
     "text": [
      "The word 'wood' occurs 3 times.\n"
     ]
    }
   ],
   "source": [
    "text = \"\"\"How much wood would a woodchuck chuck\n",
    "If a woodchuck could chuck wood?\n",
    "He would chuck, he would, as much as he could,\n",
    "And chuck as much as a woodchuck would\n",
    "If a Mr. Smith could chuck wood\\n\\r\\t.\"\"\"\n",
    "def wood_counter(text):\n",
    "    str = text.lower()\n",
    "    empty_str = \"\"\n",
    "    d = {}\n",
    "    for a in range(len(str)):\n",
    "        if 96 < ord(str[a]) < 123:\n",
    "            empty_str = empty_str + str[a]\n",
    "        else:\n",
    "            if empty_str != \"\":\n",
    "                if empty_str in d:\n",
    "                    d[empty_str] += 1\n",
    "                else:\n",
    "                    d[empty_str] = 1\n",
    "            empty_str = \"\"\n",
    "    \n",
    "    print(f\"The word 'wood' occurs {d['wood']} times.\")  \n",
    "wood_counter(text)\n"
   ]
  }
 ],
 "metadata": {
  "interpreter": {
   "hash": "4f9d56a0620bb2804cdb72f2dcbc5cd5bdcbe1d13758e9cf00537a26e77963bc"
  },
  "kernelspec": {
   "display_name": "Python 3.9.7 64-bit ('Strive_AI': conda)",
   "language": "python",
   "name": "python3"
  },
  "language_info": {
   "codemirror_mode": {
    "name": "ipython",
    "version": 3
   },
   "file_extension": ".py",
   "mimetype": "text/x-python",
   "name": "python",
   "nbconvert_exporter": "python",
   "pygments_lexer": "ipython3",
   "version": "3.9.7"
  },
  "orig_nbformat": 4
 },
 "nbformat": 4,
 "nbformat_minor": 2
}
