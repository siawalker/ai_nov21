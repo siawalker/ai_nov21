{
 "cells": [
  {
   "cell_type": "code",
   "execution_count": 1,
   "metadata": {},
   "outputs": [
    {
     "name": "stdout",
     "output_type": "stream",
     "text": [
      "bottle of beer on the wall, 5 bottles of beer. Take one down, pass it around, 4 bottles of beer in the wall [15]\n",
      "bottle of beer on the wall, 5 bottles of beer. Take one down, pass it around, 4 bottles of beer in the wall [14]\n",
      "bottle of beer on the wall, 5 bottles of beer. Take one down, pass it around, 4 bottles of beer in the wall [13]\n",
      "bottle of beer on the wall, 5 bottles of beer. Take one down, pass it around, 4 bottles of beer in the wall [12]\n",
      "bottle of beer on the wall, 5 bottles of beer. Take one down, pass it around, 4 bottles of beer in the wall [11]\n",
      "bottle of beer on the wall, 5 bottles of beer. Take one down, pass it around, 4 bottles of beer in the wall [10]\n",
      "bottle of beer on the wall, 5 bottles of beer. Take one down, pass it around, 4 bottles of beer in the wall [9]\n",
      "bottle of beer on the wall, 5 bottles of beer. Take one down, pass it around, 4 bottles of beer in the wall [8]\n",
      "bottle of beer on the wall, 5 bottles of beer. Take one down, pass it around, 4 bottles of beer in the wall [7]\n",
      "bottle of beer on the wall, 5 bottles of beer. Take one down, pass it around, 4 bottles of beer in the wall [6]\n",
      "bottle of beer on the wall, 5 bottles of beer. Take one down, pass it around, 4 bottles of beer in the wall [5]\n",
      "bottle of beer on the wall, 5 bottles of beer. Take one down, pass it around, 4 bottles of beer in the wall [4]\n",
      "bottle of beer on the wall, 5 bottles of beer. Take one down, pass it around, 4 bottles of beer in the wall [3]\n",
      "bottle of beer on the wall, 5 bottles of beer. Take one down, pass it around, 4 bottles of beer in the wall [2]\n",
      "bottle of beer on the wall, 5 bottles of beer. Take one down, pass it around, 4 bottles of beer in the wall [1]\n"
     ]
    }
   ],
   "source": [
    "#Your Code Here\n",
    "def beersong():\n",
    "    song = \"bottle of beer on the wall, 5 bottles of beer. Take one down, pass it around, 4 bottles of beer in the wall\"\n",
    "    n = 15\n",
    "    while n > 0:\n",
    "     print(song,[n])\n",
    "     n -= 1\n",
    "    \"\"\"\n",
    "    5 bottles of beer on the wall, 5 bottles of beer. Take one down, pass it around, 4 bottles of beer in the wall\n",
    "    4 bottles of beer on the wall, 4 bottles of beer. Take one down, pass it around, 3 bottles of beer in the wall\n",
    "    3 bottles of beer on the wall, 3 bottles of beer. Take one down, pass it around, 2 bottles of beer in the wall\n",
    "    2 bottles of beer on the wall, 2 bottles of beer. Take one down, pass it around, 1 bottle of beer in the wall\n",
    "    1 bottle of beer on the wall, 1 bottle of beer. Take one down, pass it around, 0 bottles of beer in the wall\n",
    "    \"\"\"\n",
    "    return\n",
    "\n",
    "beersong()"
   ]
  }
 ],
 "metadata": {
  "interpreter": {
   "hash": "4f9d56a0620bb2804cdb72f2dcbc5cd5bdcbe1d13758e9cf00537a26e77963bc"
  },
  "kernelspec": {
   "display_name": "Python 3.9.7 64-bit ('Strive_AI': conda)",
   "language": "python",
   "name": "python3"
  },
  "language_info": {
   "codemirror_mode": {
    "name": "ipython",
    "version": 3
   },
   "file_extension": ".py",
   "mimetype": "text/x-python",
   "name": "python",
   "nbconvert_exporter": "python",
   "pygments_lexer": "ipython3",
   "version": "3.9.7"
  },
  "orig_nbformat": 4
 },
 "nbformat": 4,
 "nbformat_minor": 2
}
