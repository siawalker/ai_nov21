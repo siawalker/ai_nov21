{
 "cells": [
  {
   "cell_type": "code",
   "execution_count": 2,
   "metadata": {},
   "outputs": [
    {
     "name": "stdout",
     "output_type": "stream",
     "text": [
      "count of all characters in love is :\n",
      "Counter({' ': 7, 'a': 4, 'n': 4, 'e': 3, 'o': 3, 'i': 3, 'm': 2, 'l': 2, 'w': 1, 'h': 1, 't': 1, 'c': 1, 'd': 1, 'f': 1, 'r': 1, 'v': 1, 's': 1, 'u': 1, 'g': 1, 'b': 1})\n"
     ]
    }
   ],
   "source": [
    "#Your Code Here\n",
    "from collections import Counter\n",
    "love = \"what men can do for love is unimaginable\"\n",
    "res = Counter(love)\n",
    "print(\"count of all characters in love is :\\n\"\n",
    "                                + str(res))\n",
    "\n",
    "\n",
    "          "
   ]
  }
 ],
 "metadata": {
  "interpreter": {
   "hash": "4f9d56a0620bb2804cdb72f2dcbc5cd5bdcbe1d13758e9cf00537a26e77963bc"
  },
  "kernelspec": {
   "display_name": "Python 3.9.7 64-bit ('Strive_AI': conda)",
   "language": "python",
   "name": "python3"
  },
  "language_info": {
   "codemirror_mode": {
    "name": "ipython",
    "version": 3
   },
   "file_extension": ".py",
   "mimetype": "text/x-python",
   "name": "python",
   "nbconvert_exporter": "python",
   "pygments_lexer": "ipython3",
   "version": "3.9.7"
  },
  "orig_nbformat": 4
 },
 "nbformat": 4,
 "nbformat_minor": 2
}
