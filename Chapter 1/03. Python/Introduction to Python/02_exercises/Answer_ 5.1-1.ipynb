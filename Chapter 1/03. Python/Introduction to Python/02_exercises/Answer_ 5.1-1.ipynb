{
 "cells": [
  {
   "cell_type": "code",
   "execution_count": 3,
   "metadata": {},
   "outputs": [
    {
     "name": "stdout",
     "output_type": "stream",
     "text": [
      "20\n",
      "19\n",
      "18\n",
      "17\n",
      "16\n",
      "15\n",
      "14\n",
      "13\n",
      "12\n",
      "11\n",
      "10\n",
      "9\n",
      "8\n",
      "7\n",
      "6\n",
      "5\n",
      "4\n",
      "3\n",
      "2\n",
      "1\n",
      "Blast off!\n"
     ]
    }
   ],
   "source": [
    " # Countdown\n",
    "# using of print\n",
    "def countdown():\n",
    "    n = 20\n",
    "    while n > 0:\n",
    "        print(n)\n",
    "        n -= 1\n",
    "    print(\"Blast off!\")\n",
    "    \"\"\"\n",
    "    20\n",
    "    19\n",
    "    18\n",
    "    17\n",
    "    16\n",
    "    15\n",
    "    14\n",
    "    13\n",
    "    12\n",
    "    11\n",
    "    10\n",
    "    9\n",
    "    8\n",
    "    7\n",
    "    6\n",
    "    5\n",
    "    4\n",
    "    3\n",
    "    2\n",
    "    1\n",
    "    Blast off!\n",
    "    \"\"\"\n",
    "countdown()"
   ]
  }
 ],
 "metadata": {
  "interpreter": {
   "hash": "4f9d56a0620bb2804cdb72f2dcbc5cd5bdcbe1d13758e9cf00537a26e77963bc"
  },
  "kernelspec": {
   "display_name": "Python 3.9.7 64-bit ('Strive_AI': conda)",
   "language": "python",
   "name": "python3"
  },
  "language_info": {
   "codemirror_mode": {
    "name": "ipython",
    "version": 3
   },
   "file_extension": ".py",
   "mimetype": "text/x-python",
   "name": "python",
   "nbconvert_exporter": "python",
   "pygments_lexer": "ipython3",
   "version": "3.9.7"
  },
  "orig_nbformat": 4
 },
 "nbformat": 4,
 "nbformat_minor": 2
}
