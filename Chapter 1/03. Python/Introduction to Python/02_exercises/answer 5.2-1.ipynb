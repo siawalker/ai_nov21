{
 "cells": [
  {
   "cell_type": "code",
   "execution_count": 10,
   "metadata": {},
   "outputs": [
    {
     "name": "stdout",
     "output_type": "stream",
     "text": [
      "2\n",
      "100\n",
      "4\n"
     ]
    }
   ],
   "source": [
    "#Question 52\n",
    "# our functions\n",
    "example_list = [2, 4, 6, 12, 15, 99, 100]\n",
    "    \n",
    "print(min(example_list))\n",
    "\n",
    "print(max(example_list))\n",
    "\n",
    "def dividables_by3(example_list):\n",
    "    div = 0\n",
    "    for a in example_list:\n",
    "        if a%3 == 0:\n",
    "            div += 1\n",
    "    return div\n",
    "print(dividables_by3(example_list))\n"
   ]
  }
 ],
 "metadata": {
  "interpreter": {
   "hash": "4f9d56a0620bb2804cdb72f2dcbc5cd5bdcbe1d13758e9cf00537a26e77963bc"
  },
  "kernelspec": {
   "display_name": "Python 3.9.7 64-bit ('Strive_AI': conda)",
   "language": "python",
   "name": "python3"
  },
  "language_info": {
   "codemirror_mode": {
    "name": "ipython",
    "version": 3
   },
   "file_extension": ".py",
   "mimetype": "text/x-python",
   "name": "python",
   "nbconvert_exporter": "python",
   "pygments_lexer": "ipython3",
   "version": "3.9.7"
  },
  "orig_nbformat": 4
 },
 "nbformat": 4,
 "nbformat_minor": 2
}
