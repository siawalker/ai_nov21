{
 "cells": [
  {
   "cell_type": "code",
   "execution_count": 4,
   "metadata": {},
   "outputs": [
    {
     "name": "stdout",
     "output_type": "stream",
     "text": [
      "July 2016\n",
      "['2016-07-01' '2016-07-02' '2016-07-03' '2016-07-04' '2016-07-05'\n",
      " '2016-07-06' '2016-07-07' '2016-07-08' '2016-07-09' '2016-07-10'\n",
      " '2016-07-11' '2016-07-12' '2016-07-13' '2016-07-14' '2016-07-15'\n",
      " '2016-07-16' '2016-07-17' '2016-07-18' '2016-07-19' '2016-07-20'\n",
      " '2016-07-21' '2016-07-22' '2016-07-23' '2016-07-24' '2016-07-25'\n",
      " '2016-07-26' '2016-07-27' '2016-07-28' '2016-07-29' '2016-07-30'\n",
      " '2016-07-31']\n"
     ]
    }
   ],
   "source": [
    "# How to get all dates corresponding to the month july 2016\n",
    "import numpy as np\n",
    "print(\"July 2016\")\n",
    "print(np.arange('2016-07','2016-08', dtype='datetime64[D]'))\n"
   ]
  },
  {
   "cell_type": "code",
   "execution_count": 5,
   "metadata": {},
   "outputs": [
    {
     "name": "stdout",
     "output_type": "stream",
     "text": [
      "[0.34205981 0.31958969 0.10514137 0.1313979  0.94511841 0.12264202\n",
      " 0.58517049 0.46870532 0.68689506 0.10915438]\n",
      "considering the the two random values:\n",
      "[0.34664268 0.55668514 0.28027301 0.29986386 0.15209169 0.12116547\n",
      " 0.60822337 0.47162763 0.10763743 0.44379878]\n"
     ]
    }
   ],
   "source": [
    "# Considering two random and consider if equal\n",
    "import numpy as np\n",
    "from numpy import random\n",
    "a = random.random(10)\n",
    "print(a)\n",
    "print(\"considering the the two random values:\")\n",
    "b = random.random(10)\n",
    "print(b)"
   ]
  }
 ],
 "metadata": {
  "interpreter": {
   "hash": "4f9d56a0620bb2804cdb72f2dcbc5cd5bdcbe1d13758e9cf00537a26e77963bc"
  },
  "kernelspec": {
   "display_name": "Python 3.9.7 64-bit ('Strive_AI': conda)",
   "language": "python",
   "name": "python3"
  },
  "language_info": {
   "codemirror_mode": {
    "name": "ipython",
    "version": 3
   },
   "file_extension": ".py",
   "mimetype": "text/x-python",
   "name": "python",
   "nbconvert_exporter": "python",
   "pygments_lexer": "ipython3",
   "version": "3.9.7"
  },
  "orig_nbformat": 4
 },
 "nbformat": 4,
 "nbformat_minor": 2
}
