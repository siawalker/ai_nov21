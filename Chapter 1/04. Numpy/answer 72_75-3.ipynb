{
 "cells": [
  {
   "cell_type": "code",
   "execution_count": 1,
   "metadata": {},
   "outputs": [
    {
     "name": "stdout",
     "output_type": "stream",
     "text": [
      "[[1 2 3]\n",
      " [8 9 4]\n",
      " [5 6 7]\n",
      " [3 5 6]]\n",
      "swapping of rows\n",
      "[[5 6 7]\n",
      " [1 2 3]]\n"
     ]
    }
   ],
   "source": [
    "# How to swap two array in a row\n",
    "import numpy as np\n",
    "a = np.array([[1,2,3],[8,9,4],[5,6,7],[3,5,6]])\n",
    "print(a)\n",
    "print(\"swapping of rows\")\n",
    "b = a[[0,2]] = a[[2,0]] \n",
    "print(b)"
   ]
  },
  {
   "cell_type": "code",
   "execution_count": 2,
   "metadata": {},
   "outputs": [
    {
     "name": "stdout",
     "output_type": "stream",
     "text": [
      "[[1 2 3]\n",
      " [4 5 6]\n",
      " [7 8 9]]\n",
      "finding averages of arrays\n",
      "[4. 5. 6.]\n"
     ]
    }
   ],
   "source": [
    "# Compute averages over an array\n",
    "import numpy as np\n",
    "a = np.array([[1,2,3],[4,5,6,],[7,8,9]])\n",
    "print(a)\n",
    "print(\"finding averages of arrays\")\n",
    "avg = np.average(a,axis=0)\n",
    "print(avg)\n",
    "\n"
   ]
  }
 ],
 "metadata": {
  "interpreter": {
   "hash": "4f9d56a0620bb2804cdb72f2dcbc5cd5bdcbe1d13758e9cf00537a26e77963bc"
  },
  "kernelspec": {
   "display_name": "Python 3.9.7 64-bit ('Strive_AI': conda)",
   "language": "python",
   "name": "python3"
  },
  "language_info": {
   "codemirror_mode": {
    "name": "ipython",
    "version": 3
   },
   "file_extension": ".py",
   "mimetype": "text/x-python",
   "name": "python",
   "nbconvert_exporter": "python",
   "pygments_lexer": "ipython3",
   "version": "3.9.7"
  },
  "orig_nbformat": 4
 },
 "nbformat": 4,
 "nbformat_minor": 2
}
